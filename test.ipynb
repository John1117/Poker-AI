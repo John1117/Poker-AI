{
 "cells": [
  {
   "cell_type": "code",
   "execution_count": 43,
   "metadata": {},
   "outputs": [
    {
     "ename": "NameError",
     "evalue": "name 'np' is not defined",
     "output_type": "error",
     "traceback": [
      "\u001b[0;31m---------------------------------------------------------------------------\u001b[0m",
      "\u001b[0;31mNameError\u001b[0m                                 Traceback (most recent call last)",
      "Cell \u001b[0;32mIn[43], line 3\u001b[0m\n\u001b[1;32m      1\u001b[0m \u001b[39mimport\u001b[39;00m \u001b[39mmatplotlib\u001b[39;00m\u001b[39m.\u001b[39;00m\u001b[39mpyplot\u001b[39;00m \u001b[39mas\u001b[39;00m \u001b[39mplt\u001b[39;00m\n\u001b[1;32m      2\u001b[0m pot \u001b[39m=\u001b[39m \u001b[39m100\u001b[39m\n\u001b[0;32m----> 3\u001b[0m bet \u001b[39m=\u001b[39m np\u001b[39m.\u001b[39marange(\u001b[39m0\u001b[39m, \u001b[39m10000\u001b[39m, \u001b[39m1\u001b[39m)\n\u001b[1;32m      4\u001b[0m odd \u001b[39m=\u001b[39m bet\u001b[39m/\u001b[39m(pot\u001b[39m+\u001b[39mbet)\n\u001b[1;32m      6\u001b[0m gap \u001b[39m=\u001b[39m \u001b[39m5\u001b[39m\n",
      "\u001b[0;31mNameError\u001b[0m: name 'np' is not defined"
     ]
    }
   ],
   "source": [
    "import matplotlib.pyplot as plt\n",
    "pot = 100\n",
    "bet = np.arange(0, 10000, 1)\n",
    "odd = bet/(pot+bet)\n",
    "\n",
    "gap = 5\n",
    "odd_ = np.arange(0, 100/100, 5/100)\n",
    "bet_ = odd_/(1-odd_)*pot\n",
    "\n",
    "plt.plot(bet, odd, 'b-')\n",
    "plt.plot(bet_, odd_, 'ro')\n",
    "plt.xlabel('bet_size')\n",
    "plt.ylabel('odd')\n",
    "plt.xscale('log')\n",
    "plt.show()\n",
    "print('bet_size', bet_)"
   ]
  },
  {
   "cell_type": "code",
   "execution_count": null,
   "metadata": {},
   "outputs": [
    {
     "name": "stdout",
     "output_type": "stream",
     "text": [
      "[0.03075264 0.05027106 0.02276823 0.07037817 0.03341866 0.05739306\n",
      " 0.04100843 0.04429544 0.03800296 0.03143655 0.03625933 0.03404033\n",
      " 0.10641976 0.04190489 0.04183389 0.02950178 0.04174064 0.0279039\n",
      " 0.0641496  0.08168667 0.03918984 0.03564413]\n"
     ]
    },
    {
     "data": {
      "image/png": "[encoded data removed]",
      "text/plain": [
       "<Figure size 2000x500 with 1 Axes>"
      ]
     },
     "metadata": {},
     "output_type": "display_data"
    }
   ],
   "source": [
    "import numpy as np\n",
    "import torch\n",
    "from torch import nn\n",
    "import matplotlib.pyplot as plt\n",
    "\n",
    "class NNPolicy(nn.Module):\n",
    "    def __init__(self, n_obs=20, n_act=22, hid_arch=None):\n",
    "        super().__init__()\n",
    "\n",
    "        nn_arch = (n_obs,)\n",
    "        if hid_arch is None:\n",
    "            nn_arch += (n_act,)\n",
    "        elif isinstance(hid_arch, int) and hid_arch > 0:\n",
    "            nn_arch += (hid_arch, n_act)\n",
    "        elif isinstance(hid_arch, (list, tuple)) and all([isinstance(n_neu, int) and n_neu > 0 for n_neu in hid_arch]):\n",
    "            nn_arch += tuple(hid_arch) + (n_act,)\n",
    "        else:\n",
    "            raise TypeError('hid_arch should be None, positive int, or 1d-list/tuple of positive int')\n",
    "        \n",
    "        n_lyr = len(nn_arch)\n",
    "        net = nn.Sequential()\n",
    "        for i in range(n_lyr-1):\n",
    "            if i == n_lyr-2:\n",
    "                net.append(nn.Linear(nn_arch[i], nn_arch[i+1]))\n",
    "                net.append(nn.Softmax(dim=-1))\n",
    "            else:\n",
    "                net.append(nn.Linear(nn_arch[i], nn_arch[i+1]))\n",
    "                net.append(nn.ReLU())\n",
    "\n",
    "        self.net = net\n",
    "\n",
    "    def forward(self, obs):\n",
    "        obs = torch.Tensor(obs)\n",
    "        return self.net(obs).numpy(force=True)\n",
    "    \n",
    "nnp = NNPolicy(hid_arch=None)\n",
    "\n",
    "obs = np.random.rand(20)\n",
    "pi = nnp(obs)\n",
    "print(pi)\n",
    "\n",
    "d = 5\n",
    "odd = np.arange(d/100, 100/100, d/100)\n",
    "bet = np.array(odd/(1-odd)*100, dtype=np.int32)\n",
    "\n",
    "plt.figure(figsize=(20, 5))\n",
    "plt.bar(np.arange(22), pi*100)\n",
    "plt.xticks(\n",
    "    ticks=np.arange(22),\n",
    "    labels=['fold', 'call'] + [str(b)+'%' for b in bet] + ['all-in']\n",
    ")\n",
    "plt.ylabel('prob(%)')\n",
    "plt.show()"
   ]
  },
  {
   "cell_type": "code",
   "execution_count": null,
   "metadata": {},
   "outputs": [
    {
     "name": "stdout",
     "output_type": "stream",
     "text": [
      "[   5   11   17   25   33   42   53   66   81  100  122  150  185  233\n",
      "  300  400  566  900 1900]\n",
      "{0: 'F', 1: 'C', 2: 'B_5%', 3: 'B_11%', 4: 'B_17%', 5: 'B_25%', 6: 'B_33%', 7: 'B_42%', 8: 'B_53%', 9: 'B_66%', 10: 'B_81%', 11: 'B_100%', 12: 'B_122%', 13: 'B_150%', 14: 'B_185%', 15: 'B_233%', 16: 'B_300%', 17: 'B_400%', 18: 'B_566%', 19: 'B_900%', 20: 'B_1900%', 21: 'A'}\n"
     ]
    },
    {
     "data": {
      "text/plain": [
       "22"
      ]
     },
     "execution_count": 112,
     "metadata": {},
     "output_type": "execute_result"
    }
   ],
   "source": [
    "def make_act_code(odd_incr=0.05):\n",
    "    odd = np.arange(odd_incr, 1, odd_incr)\n",
    "    bet = np.int32(odd/(1-odd)*100)\n",
    "    print(bet)\n",
    "\n",
    "    n_code = len(bet) + 3\n",
    "    code = {}\n",
    "    for i in range(n_code):\n",
    "        if i==0:\n",
    "            code[i] = 'F'\n",
    "        elif i==1:\n",
    "            code[i] = 'C'\n",
    "        elif i==n_code-1:\n",
    "            code[i] = 'A'\n",
    "        else:\n",
    "            code[i] = f'B_{bet[i-2]}%'\n",
    "    print(code)\n",
    "    return code\n",
    "\n",
    "len(make_act_code())"
   ]
  },
  {
   "cell_type": "code",
   "execution_count": null,
   "metadata": {},
   "outputs": [],
   "source": [
    "import torch\n",
    "from tensordict.tensordict import TensorDict"
   ]
  },
  {
   "cell_type": "code",
   "execution_count": null,
   "metadata": {},
   "outputs": [
    {
     "data": {
      "text/plain": [
       "TensorDict(\n",
       "    fields={\n",
       "        a: Tensor(shape=torch.Size([7, 3]), device=cpu, dtype=torch.float32, is_shared=False),\n",
       "        b: Tensor(shape=torch.Size([7, 1]), device=cpu, dtype=torch.float32, is_shared=False)},\n",
       "    batch_size=torch.Size([7]),\n",
       "    device=None,\n",
       "    is_shared=False)"
      ]
     },
     "execution_count": 122,
     "metadata": {},
     "output_type": "execute_result"
    }
   ],
   "source": [
    "n = 2\n",
    "td1 = TensorDict({'a': torch.rand(n, 3), 'b': torch.rand(n, 1)}, batch_size=n)\n",
    "\n",
    "n = 5\n",
    "td2 = TensorDict({'a': torch.rand(n, 3), 'b': torch.rand(n, 1)}, batch_size=n)\n",
    "\n",
    "torch.cat((td1, td2))"
   ]
  },
  {
   "cell_type": "code",
   "execution_count": 61,
   "metadata": {},
   "outputs": [],
   "source": [
    "from collections import defaultdict\n",
    "\n",
    "import matplotlib.pyplot as plt\n",
    "import torch\n",
    "from tensordict.nn import TensorDictModule\n",
    "from tensordict.nn.distributions import NormalParamExtractor\n",
    "from torch import nn\n",
    "from torchrl.collectors import SyncDataCollector\n",
    "from torchrl.data.replay_buffers import ReplayBuffer\n",
    "from torchrl.data.replay_buffers.samplers import SamplerWithoutReplacement\n",
    "from torchrl.data.replay_buffers.storages import LazyTensorStorage\n",
    "from torchrl.envs import (Compose, DoubleToFloat, ObservationNorm, StepCounter,\n",
    "                          TransformedEnv)\n",
    "from torchrl.envs.libs.gym import GymEnv\n",
    "from torchrl.envs.utils import check_env_specs, set_exploration_mode\n",
    "from torchrl.modules import ProbabilisticActor, TanhNormal, ValueOperator\n",
    "from torchrl.objectives import ClipPPOLoss\n",
    "from torchrl.objectives.value import GAE\n",
    "from tqdm import tqdm\n",
    "from network import PolicyNetwork, ValueNetwork"
   ]
  },
  {
   "cell_type": "code",
   "execution_count": 47,
   "metadata": {},
   "outputs": [],
   "source": [
    "from env import FakeGameTorchEnv"
   ]
  },
  {
   "cell_type": "code",
   "execution_count": 51,
   "metadata": {},
   "outputs": [],
   "source": [
    "from torch.distributions.categorical import Categorical"
   ]
  },
  {
   "cell_type": "code",
   "execution_count": 62,
   "metadata": {},
   "outputs": [],
   "source": [
    "game = FakeGameTorchEnv()"
   ]
  },
  {
   "cell_type": "code",
   "execution_count": 145,
   "metadata": {},
   "outputs": [
    {
     "name": "stdout",
     "output_type": "stream",
     "text": [
      "TensorDict(\n",
      "    fields={\n",
      "        action: Tensor(shape=torch.Size([5]), device=cpu, dtype=torch.int64, is_shared=False),\n",
      "        obs: Tensor(shape=torch.Size([5, 26]), device=cpu, dtype=torch.float32, is_shared=False),\n",
      "        probs: Tensor(shape=torch.Size([5, 22]), device=cpu, dtype=torch.float32, is_shared=False),\n",
      "        sample_log_prob: Tensor(shape=torch.Size([5]), device=cpu, dtype=torch.float32, is_shared=False)},\n",
      "    batch_size=torch.Size([5]),\n",
      "    device=None,\n",
      "    is_shared=False) \n",
      "\n"
     ]
    }
   ],
   "source": [
    "pol_net = PolicyNetwork()\n",
    "pol_mod = TensorDictModule(pol_net, ['obs'], ['probs'])\n",
    "pol_mod = ProbabilisticActor(\n",
    "    module=pol_mod,\n",
    "    in_keys=['probs'],\n",
    "    distribution_class=Categorical,\n",
    "    return_log_prob=True\n",
    ")\n",
    "\n",
    "n = 5\n",
    "tsd = TensorDict({'obs': torch.rand((n, 26), dtype=torch.float32)}, batch_size=[n])\n",
    "pol_mod(tsd)\n",
    "print(tsd, '\\n')\n"
   ]
  },
  {
   "cell_type": "code",
   "execution_count": null,
   "metadata": {},
   "outputs": [],
   "source": []
  }
 ],
 "metadata": {
  "kernelspec": {
   "display_name": "Python 3",
   "language": "python",
   "name": "python3"
  },
  "language_info": {
   "codemirror_mode": {
    "name": "ipython",
    "version": 3
   },
   "file_extension": ".py",
   "mimetype": "text/x-python",
   "name": "python",
   "nbconvert_exporter": "python",
   "pygments_lexer": "ipython3",
   "version": "3.11.3"
  }
 },
 "nbformat": 4,
 "nbformat_minor": 0
}
